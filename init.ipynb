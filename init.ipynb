{
 "cells": [
  {
   "cell_type": "markdown",
   "source": "## Initialization Notebook\nThis is your initialization notebook.\n\n**What's this for?**\n\nYou can put custom code you want us to run every time we setup your environment in here. \n\n**Awesome! Anything I should not put in here?**\n\nPlease don't install `jupyter` or `jedi` packages, they would break your Deepnote environment. Also, no need to put `!pip install`s here, we already save those automatically!\n\n**I want to learn more!**\n\nGreat! Just [head over to our docs](https://docs.deepnote.com/environment/custom-initialization).",
   "metadata": {
    "tags": [],
    "cell_id": "69a08783-9c6e-4c0c-b9c4-b7835282af48",
    "deepnote_cell_type": "markdown"
   }
  },
  {
   "cell_type": "code",
   "metadata": {
    "tags": [],
    "cell_id": "00001-972cc9ff-b091-47a9-a577-edc71ea988f7",
    "deepnote_to_be_reexecuted": false,
    "source_hash": "60b37886",
    "execution_start": 1642178339626,
    "execution_millis": 21833,
    "deepnote_cell_type": "code"
   },
   "source": "%%bash\n# If your project has a 'requirements.txt' file, we'll install it here apart from blacklisted packages that interfere with Deepnote (see above).\nif test -f requirements.txt\n  then\n    sed -i '/jedi/d;/jupyter/d;' ./requirements.txt\n    pip install -r ./requirements.txt\n  else echo \"There's no requirements.txt, so nothing to install. This is the case with most projects.\"\nfi",
   "execution_count": 1,
   "outputs": [
    {
     "name": "stdout",
     "text": "Collecting ccxt\n  Downloading ccxt-1.67.75-py2.py3-none-any.whl (2.3 MB)\nRequirement already satisfied: pandas in /shared-libs/python3.7/py/lib/python3.7/site-packages (from -r ./requirements.txt (line 2)) (1.2.5)\nRequirement already satisfied: numpy in /shared-libs/python3.7/py/lib/python3.7/site-packages (from -r ./requirements.txt (line 3)) (1.19.5)\nRequirement already satisfied: certifi>=2018.1.18 in /shared-libs/python3.7/py/lib/python3.7/site-packages (from ccxt->-r ./requirements.txt (line 1)) (2021.10.8)\nRequirement already satisfied: setuptools>=38.5.1 in /root/venv/lib/python3.7/site-packages (from ccxt->-r ./requirements.txt (line 1)) (47.1.0)\nRequirement already satisfied: yarl==1.7.2; python_version >= \"3.5.2\" in /shared-libs/python3.7/py-core/lib/python3.7/site-packages (from ccxt->-r ./requirements.txt (line 1)) (1.7.2)\nRequirement already satisfied: aiohttp>=3.8; python_version >= \"3.5.2\" in /shared-libs/python3.7/py-core/lib/python3.7/site-packages (from ccxt->-r ./requirements.txt (line 1)) (3.8.1)\nCollecting aiodns>=1.1.1; python_version >= \"3.5.2\"\n  Downloading aiodns-3.0.0-py3-none-any.whl (5.0 kB)\nRequirement already satisfied: cryptography>=2.6.1 in /shared-libs/python3.7/py/lib/python3.7/site-packages (from ccxt->-r ./requirements.txt (line 1)) (3.4.8)\nRequirement already satisfied: requests>=2.18.4 in /shared-libs/python3.7/py/lib/python3.7/site-packages (from ccxt->-r ./requirements.txt (line 1)) (2.26.0)\nRequirement already satisfied: python-dateutil>=2.7.3 in /shared-libs/python3.7/py-core/lib/python3.7/site-packages (from pandas->-r ./requirements.txt (line 2)) (2.8.2)\nRequirement already satisfied: pytz>=2017.3 in /shared-libs/python3.7/py/lib/python3.7/site-packages (from pandas->-r ./requirements.txt (line 2)) (2021.3)\nRequirement already satisfied: typing-extensions>=3.7.4; python_version < \"3.8\" in /shared-libs/python3.7/py-core/lib/python3.7/site-packages (from yarl==1.7.2; python_version >= \"3.5.2\"->ccxt->-r ./requirements.txt (line 1)) (4.0.1)\nRequirement already satisfied: multidict>=4.0 in /shared-libs/python3.7/py-core/lib/python3.7/site-packages (from yarl==1.7.2; python_version >= \"3.5.2\"->ccxt->-r ./requirements.txt (line 1)) (5.2.0)\nRequirement already satisfied: idna>=2.0 in /shared-libs/python3.7/py-core/lib/python3.7/site-packages (from yarl==1.7.2; python_version >= \"3.5.2\"->ccxt->-r ./requirements.txt (line 1)) (3.3)\nRequirement already satisfied: asynctest==0.13.0; python_version < \"3.8\" in /shared-libs/python3.7/py-core/lib/python3.7/site-packages (from aiohttp>=3.8; python_version >= \"3.5.2\"->ccxt->-r ./requirements.txt (line 1)) (0.13.0)\nRequirement already satisfied: charset-normalizer<3.0,>=2.0 in /shared-libs/python3.7/py-core/lib/python3.7/site-packages (from aiohttp>=3.8; python_version >= \"3.5.2\"->ccxt->-r ./requirements.txt (line 1)) (2.0.9)\nRequirement already satisfied: frozenlist>=1.1.1 in /shared-libs/python3.7/py-core/lib/python3.7/site-packages (from aiohttp>=3.8; python_version >= \"3.5.2\"->ccxt->-r ./requirements.txt (line 1)) (1.2.0)\nRequirement already satisfied: aiosignal>=1.1.2 in /shared-libs/python3.7/py-core/lib/python3.7/site-packages (from aiohttp>=3.8; python_version >= \"3.5.2\"->ccxt->-r ./requirements.txt (line 1)) (1.2.0)\nRequirement already satisfied: async-timeout<5.0,>=4.0.0a3 in /shared-libs/python3.7/py-core/lib/python3.7/site-packages (from aiohttp>=3.8; python_version >= \"3.5.2\"->ccxt->-r ./requirements.txt (line 1)) (4.0.1)\nRequirement already satisfied: attrs>=17.3.0 in /shared-libs/python3.7/py-core/lib/python3.7/site-packages (from aiohttp>=3.8; python_version >= \"3.5.2\"->ccxt->-r ./requirements.txt (line 1)) (21.2.0)\nCollecting pycares>=4.0.0\n  Downloading pycares-4.1.2-cp37-cp37m-manylinux_2_5_x86_64.manylinux1_x86_64.manylinux_2_12_x86_64.manylinux2010_x86_64.whl (291 kB)\nRequirement already satisfied: cffi>=1.12 in /shared-libs/python3.7/py-core/lib/python3.7/site-packages (from cryptography>=2.6.1->ccxt->-r ./requirements.txt (line 1)) (1.15.0)\nRequirement already satisfied: urllib3<1.27,>=1.21.1 in /shared-libs/python3.7/py/lib/python3.7/site-packages (from requests>=2.18.4->ccxt->-r ./requirements.txt (line 1)) (1.26.7)\nRequirement already satisfied: six>=1.5 in /shared-libs/python3.7/py-core/lib/python3.7/site-packages (from python-dateutil>=2.7.3->pandas->-r ./requirements.txt (line 2)) (1.16.0)\nRequirement already satisfied: pycparser in /shared-libs/python3.7/py-core/lib/python3.7/site-packages (from cffi>=1.12->cryptography>=2.6.1->ccxt->-r ./requirements.txt (line 1)) (2.21)\nInstalling collected packages: pycares, aiodns, ccxt\nSuccessfully installed aiodns-3.0.0 ccxt-1.67.75 pycares-4.1.2\nWARNING: You are using pip version 20.1.1; however, version 21.3.1 is available.\nYou should consider upgrading via the '/root/venv/bin/python -m pip install --upgrade pip' command.\n",
     "output_type": "stream"
    }
   ]
  },
  {
   "cell_type": "markdown",
   "source": "<a style='text-decoration:none;line-height:16px;display:flex;color:#5B5B62;padding:10px;justify-content:end;' href='https://deepnote.com?utm_source=created-in-deepnote-cell&projectId=86abaa8d-0cc6-4b4e-b8a6-c45c25d828b7' target=\"_blank\">\n<img alt='Created in deepnote.com' style='display:inline;max-height:16px;margin:0px;margin-right:7.5px;' src='data:image/svg+xml;base64,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' > </img>\nCreated in <span style='font-weight:600;margin-left:4px;'>Deepnote</span></a>",
   "metadata": {
    "tags": [],
    "created_in_deepnote_cell": true,
    "deepnote_cell_type": "markdown"
   }
  }
 ],
 "nbformat": 4,
 "nbformat_minor": 2,
 "metadata": {
  "orig_nbformat": 2,
  "deepnote": {
   "is_reactive": false
  },
  "deepnote_notebook_id": "069e9a95-e688-4824-91ca-8a46534bea89",
  "deepnote_execution_queue": []
 }
}